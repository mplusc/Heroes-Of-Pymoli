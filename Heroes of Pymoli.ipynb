{
 "cells": [
  {
   "cell_type": "code",
   "execution_count": 999,
   "metadata": {},
   "outputs": [],
   "source": [
    "import pandas as pd\n",
    "import numpy as np"
   ]
  },
  {
   "cell_type": "code",
   "execution_count": 1000,
   "metadata": {},
   "outputs": [
    {
     "data": {
      "text/html": [
       "<div>\n",
       "<style scoped>\n",
       "    .dataframe tbody tr th:only-of-type {\n",
       "        vertical-align: middle;\n",
       "    }\n",
       "\n",
       "    .dataframe tbody tr th {\n",
       "        vertical-align: top;\n",
       "    }\n",
       "\n",
       "    .dataframe thead th {\n",
       "        text-align: right;\n",
       "    }\n",
       "</style>\n",
       "<table border=\"1\" class=\"dataframe\">\n",
       "  <thead>\n",
       "    <tr style=\"text-align: right;\">\n",
       "      <th></th>\n",
       "      <th>Age</th>\n",
       "      <th>Gender</th>\n",
       "      <th>Item ID</th>\n",
       "      <th>Item Name</th>\n",
       "      <th>Price</th>\n",
       "      <th>SN</th>\n",
       "    </tr>\n",
       "  </thead>\n",
       "  <tbody>\n",
       "    <tr>\n",
       "      <th>0</th>\n",
       "      <td>38</td>\n",
       "      <td>Male</td>\n",
       "      <td>165</td>\n",
       "      <td>Bone Crushing Silver Skewer</td>\n",
       "      <td>3.37</td>\n",
       "      <td>Aelalis34</td>\n",
       "    </tr>\n",
       "    <tr>\n",
       "      <th>1</th>\n",
       "      <td>21</td>\n",
       "      <td>Male</td>\n",
       "      <td>119</td>\n",
       "      <td>Stormbringer, Dark Blade of Ending Misery</td>\n",
       "      <td>2.32</td>\n",
       "      <td>Eolo46</td>\n",
       "    </tr>\n",
       "    <tr>\n",
       "      <th>2</th>\n",
       "      <td>34</td>\n",
       "      <td>Male</td>\n",
       "      <td>174</td>\n",
       "      <td>Primitive Blade</td>\n",
       "      <td>2.46</td>\n",
       "      <td>Assastnya25</td>\n",
       "    </tr>\n",
       "    <tr>\n",
       "      <th>3</th>\n",
       "      <td>21</td>\n",
       "      <td>Male</td>\n",
       "      <td>92</td>\n",
       "      <td>Final Critic</td>\n",
       "      <td>1.36</td>\n",
       "      <td>Pheusrical25</td>\n",
       "    </tr>\n",
       "    <tr>\n",
       "      <th>4</th>\n",
       "      <td>23</td>\n",
       "      <td>Male</td>\n",
       "      <td>63</td>\n",
       "      <td>Stormfury Mace</td>\n",
       "      <td>1.27</td>\n",
       "      <td>Aela59</td>\n",
       "    </tr>\n",
       "  </tbody>\n",
       "</table>\n",
       "</div>"
      ],
      "text/plain": [
       "   Age Gender  Item ID                                  Item Name  Price  \\\n",
       "0   38   Male      165                Bone Crushing Silver Skewer   3.37   \n",
       "1   21   Male      119  Stormbringer, Dark Blade of Ending Misery   2.32   \n",
       "2   34   Male      174                            Primitive Blade   2.46   \n",
       "3   21   Male       92                               Final Critic   1.36   \n",
       "4   23   Male       63                             Stormfury Mace   1.27   \n",
       "\n",
       "             SN  \n",
       "0     Aelalis34  \n",
       "1        Eolo46  \n",
       "2   Assastnya25  \n",
       "3  Pheusrical25  \n",
       "4        Aela59  "
      ]
     },
     "execution_count": 1000,
     "metadata": {},
     "output_type": "execute_result"
    }
   ],
   "source": [
    "file = \"HeroesOfPymoli/purchase_data.json\"\n",
    "\n",
    "df = pd.read_json(file, orient=\"records\")\n",
    "df.head()\n",
    "\n"
   ]
  },
  {
   "cell_type": "code",
   "execution_count": 1001,
   "metadata": {},
   "outputs": [
    {
     "name": "stdout",
     "output_type": "stream",
     "text": [
      "<class 'pandas.core.frame.DataFrame'>\n",
      "RangeIndex: 780 entries, 0 to 779\n",
      "Data columns (total 6 columns):\n",
      "Age          780 non-null int64\n",
      "Gender       780 non-null object\n",
      "Item ID      780 non-null int64\n",
      "Item Name    780 non-null object\n",
      "Price        780 non-null float64\n",
      "SN           780 non-null object\n",
      "dtypes: float64(1), int64(2), object(3)\n",
      "memory usage: 36.6+ KB\n"
     ]
    }
   ],
   "source": [
    "df.info()"
   ]
  },
  {
   "cell_type": "code",
   "execution_count": 1002,
   "metadata": {},
   "outputs": [
    {
     "data": {
      "text/plain": [
       "Index(['Age', 'Gender', 'Item ID', 'Item Name', 'Price', 'SN'], dtype='object')"
      ]
     },
     "execution_count": 1002,
     "metadata": {},
     "output_type": "execute_result"
    }
   ],
   "source": [
    "df.columns"
   ]
  },
  {
   "cell_type": "code",
   "execution_count": 1003,
   "metadata": {},
   "outputs": [
    {
     "name": "stdout",
     "output_type": "stream",
     "text": [
      "There are 573 total players in Heroes of Pymoli.\n"
     ]
    }
   ],
   "source": [
    "total_players = df.loc[:,[\"Gender\",\"SN\",\"Age\"]]\n",
    "total_players = total_players.drop_duplicates()\n",
    "tp = total_players.count()[0]\n",
    "\n",
    "\n",
    "\n",
    "print(\"There are \" + str(tp) + \" total players in Heroes of Pymoli.\")"
   ]
  },
  {
   "cell_type": "code",
   "execution_count": 1004,
   "metadata": {},
   "outputs": [
    {
     "name": "stdout",
     "output_type": "stream",
     "text": [
      "There are a total of 179 unique items in Heroes of Pymoli.\n"
     ]
    }
   ],
   "source": [
    "unique_items = df[\"Item Name\"].unique()\n",
    "\n",
    "print(\"There are a total of \" + str(len(unique_items)) + \" unique items in Heroes of Pymoli.\")"
   ]
  },
  {
   "cell_type": "code",
   "execution_count": 1005,
   "metadata": {},
   "outputs": [
    {
     "name": "stdout",
     "output_type": "stream",
     "text": [
      "The average purchase price of an item in Heroes of Pymoli was $2.93\n"
     ]
    }
   ],
   "source": [
    "average_purchase = df[\"Price\"].mean()\n",
    "avg = round(average_purchase,2)\n",
    "\n",
    "print(\"The average purchase price of an item in Heroes of Pymoli was $\" + str(avg))"
   ]
  },
  {
   "cell_type": "code",
   "execution_count": 1006,
   "metadata": {},
   "outputs": [
    {
     "name": "stdout",
     "output_type": "stream",
     "text": [
      "The total number of purchases in Heroes of Pymoli was 780.\n"
     ]
    }
   ],
   "source": [
    "total_purchases = df[\"Price\"].count()\n",
    "\n",
    "print(\"The total number of purchases in Heroes of Pymoli was \" + str(total_purchases) + \".\")"
   ]
  },
  {
   "cell_type": "code",
   "execution_count": 1007,
   "metadata": {},
   "outputs": [
    {
     "name": "stdout",
     "output_type": "stream",
     "text": [
      "The total revenue of purchases in Heroes of Pymoli was $2286.33.\n"
     ]
    }
   ],
   "source": [
    "revenue = df[\"Price\"].sum()\n",
    "\n",
    "print(\"The total revenue of purchases in Heroes of Pymoli was $\" + str(revenue) + \".\")"
   ]
  },
  {
   "cell_type": "code",
   "execution_count": 1008,
   "metadata": {},
   "outputs": [
    {
     "data": {
      "text/plain": [
       "Male                     465\n",
       "Female                   100\n",
       "Other / Non-Disclosed      8\n",
       "Name: Gender, dtype: int64"
      ]
     },
     "execution_count": 1008,
     "metadata": {},
     "output_type": "execute_result"
    }
   ],
   "source": [
    "total_players[\"Gender\"].value_counts()\n"
   ]
  },
  {
   "cell_type": "code",
   "execution_count": 1009,
   "metadata": {},
   "outputs": [
    {
     "data": {
      "text/html": [
       "<div>\n",
       "<style scoped>\n",
       "    .dataframe tbody tr th:only-of-type {\n",
       "        vertical-align: middle;\n",
       "    }\n",
       "\n",
       "    .dataframe tbody tr th {\n",
       "        vertical-align: top;\n",
       "    }\n",
       "\n",
       "    .dataframe thead th {\n",
       "        text-align: right;\n",
       "    }\n",
       "</style>\n",
       "<table border=\"1\" class=\"dataframe\">\n",
       "  <thead>\n",
       "    <tr style=\"text-align: right;\">\n",
       "      <th></th>\n",
       "      <th>Percentage of Players</th>\n",
       "      <th>Total Count</th>\n",
       "    </tr>\n",
       "  </thead>\n",
       "  <tbody>\n",
       "    <tr>\n",
       "      <th>Male</th>\n",
       "      <td>81.15</td>\n",
       "      <td>465</td>\n",
       "    </tr>\n",
       "    <tr>\n",
       "      <th>Female</th>\n",
       "      <td>17.45</td>\n",
       "      <td>100</td>\n",
       "    </tr>\n",
       "    <tr>\n",
       "      <th>Other / Non-Disclosed</th>\n",
       "      <td>1.40</td>\n",
       "      <td>8</td>\n",
       "    </tr>\n",
       "  </tbody>\n",
       "</table>\n",
       "</div>"
      ],
      "text/plain": [
       "                       Percentage of Players  Total Count\n",
       "Male                                   81.15          465\n",
       "Female                                 17.45          100\n",
       "Other / Non-Disclosed                   1.40            8"
      ]
     },
     "execution_count": 1009,
     "metadata": {},
     "output_type": "execute_result"
    }
   ],
   "source": [
    "gender_info = total_players[\"Gender\"].value_counts()\n",
    "gender_percents = gender_info / tp *100\n",
    "\n",
    "gender = pd.DataFrame({\"Total Count\": gender_info, \"Percentage of Players\": gender_percents})\n",
    "                                \n",
    "gender = gender.round(2)\n",
    "gender\n",
    "                \n",
    "                "
   ]
  },
  {
   "cell_type": "code",
   "execution_count": 1010,
   "metadata": {},
   "outputs": [
    {
     "data": {
      "text/html": [
       "<div>\n",
       "<style scoped>\n",
       "    .dataframe tbody tr th:only-of-type {\n",
       "        vertical-align: middle;\n",
       "    }\n",
       "\n",
       "    .dataframe tbody tr th {\n",
       "        vertical-align: top;\n",
       "    }\n",
       "\n",
       "    .dataframe thead th {\n",
       "        text-align: right;\n",
       "    }\n",
       "</style>\n",
       "<table border=\"1\" class=\"dataframe\">\n",
       "  <thead>\n",
       "    <tr style=\"text-align: right;\">\n",
       "      <th></th>\n",
       "      <th>Average Purchase Price</th>\n",
       "      <th>Normalized Total</th>\n",
       "      <th>Purchase Count</th>\n",
       "      <th>Total Purchase Price</th>\n",
       "    </tr>\n",
       "  </thead>\n",
       "  <tbody>\n",
       "    <tr>\n",
       "      <th>Female</th>\n",
       "      <td>2.82</td>\n",
       "      <td>3.83</td>\n",
       "      <td>136</td>\n",
       "      <td>382.91</td>\n",
       "    </tr>\n",
       "    <tr>\n",
       "      <th>Male</th>\n",
       "      <td>2.95</td>\n",
       "      <td>4.02</td>\n",
       "      <td>633</td>\n",
       "      <td>1867.68</td>\n",
       "    </tr>\n",
       "    <tr>\n",
       "      <th>Other / Non-Disclosed</th>\n",
       "      <td>3.25</td>\n",
       "      <td>4.47</td>\n",
       "      <td>11</td>\n",
       "      <td>35.74</td>\n",
       "    </tr>\n",
       "  </tbody>\n",
       "</table>\n",
       "</div>"
      ],
      "text/plain": [
       "                       Average Purchase Price  Normalized Total  \\\n",
       "Female                                   2.82              3.83   \n",
       "Male                                     2.95              4.02   \n",
       "Other / Non-Disclosed                    3.25              4.47   \n",
       "\n",
       "                       Purchase Count  Total Purchase Price  \n",
       "Female                            136                382.91  \n",
       "Male                              633               1867.68  \n",
       "Other / Non-Disclosed              11                 35.74  "
      ]
     },
     "execution_count": 1010,
     "metadata": {},
     "output_type": "execute_result"
    }
   ],
   "source": [
    "avg_gender_purchase = df.groupby(\"Gender\")\n",
    "\n",
    "gender_info_v2 =df[\"Gender\"].value_counts()\n",
    "\n",
    "avg_g = avg_gender_purchase[\"Price\"].mean()\n",
    "avg_g = avg_g.round(2)\n",
    "\n",
    "total_gender_p = avg_gender_purchase[\"Price\"].sum()\n",
    "total_gender_p = total_gender_p.round(2)\n",
    "\n",
    "normalized_t = total_gender_p / gender[\"Total Count\"]\n",
    "normalized_t = normalized_t.round(2)\n",
    "\n",
    "gender_purchase = pd.DataFrame({\"Purchase Count\": gender_info_v2,\"Average Purchase Price\": avg_g, \n",
    "                                \"Total Purchase Price\":total_gender_p,\"Normalized Total\":normalized_t})\n",
    "\n",
    "gender_purchase"
   ]
  },
  {
   "cell_type": "code",
   "execution_count": 1011,
   "metadata": {},
   "outputs": [
    {
     "name": "stdout",
     "output_type": "stream",
     "text": [
      "7\n",
      "45\n"
     ]
    },
    {
     "data": {
      "text/html": [
       "<div>\n",
       "<style scoped>\n",
       "    .dataframe tbody tr th:only-of-type {\n",
       "        vertical-align: middle;\n",
       "    }\n",
       "\n",
       "    .dataframe tbody tr th {\n",
       "        vertical-align: top;\n",
       "    }\n",
       "\n",
       "    .dataframe thead th {\n",
       "        text-align: right;\n",
       "    }\n",
       "</style>\n",
       "<table border=\"1\" class=\"dataframe\">\n",
       "  <thead>\n",
       "    <tr style=\"text-align: right;\">\n",
       "      <th></th>\n",
       "      <th>Percentage of Players</th>\n",
       "      <th>Total Counts</th>\n",
       "    </tr>\n",
       "  </thead>\n",
       "  <tbody>\n",
       "    <tr>\n",
       "      <th>&lt;10</th>\n",
       "      <td>3.84</td>\n",
       "      <td>22</td>\n",
       "    </tr>\n",
       "    <tr>\n",
       "      <th>10-14</th>\n",
       "      <td>9.42</td>\n",
       "      <td>54</td>\n",
       "    </tr>\n",
       "    <tr>\n",
       "      <th>15-19</th>\n",
       "      <td>24.26</td>\n",
       "      <td>139</td>\n",
       "    </tr>\n",
       "    <tr>\n",
       "      <th>20-24</th>\n",
       "      <td>40.84</td>\n",
       "      <td>234</td>\n",
       "    </tr>\n",
       "    <tr>\n",
       "      <th>25-29</th>\n",
       "      <td>9.08</td>\n",
       "      <td>52</td>\n",
       "    </tr>\n",
       "    <tr>\n",
       "      <th>30-34</th>\n",
       "      <td>7.68</td>\n",
       "      <td>44</td>\n",
       "    </tr>\n",
       "    <tr>\n",
       "      <th>35-39</th>\n",
       "      <td>4.36</td>\n",
       "      <td>25</td>\n",
       "    </tr>\n",
       "    <tr>\n",
       "      <th>40+</th>\n",
       "      <td>0.52</td>\n",
       "      <td>3</td>\n",
       "    </tr>\n",
       "  </tbody>\n",
       "</table>\n",
       "</div>"
      ],
      "text/plain": [
       "       Percentage of Players  Total Counts\n",
       "<10                     3.84            22\n",
       "10-14                   9.42            54\n",
       "15-19                  24.26           139\n",
       "20-24                  40.84           234\n",
       "25-29                   9.08            52\n",
       "30-34                   7.68            44\n",
       "35-39                   4.36            25\n",
       "40+                     0.52             3"
      ]
     },
     "execution_count": 1011,
     "metadata": {},
     "output_type": "execute_result"
    }
   ],
   "source": [
    "print(df[\"Age\"].min())\n",
    "print(df[\"Age\"].max())\n",
    "\n",
    "bins = [0,10,15,20,25,30,35,40,100]\n",
    "\n",
    "group_labels = [\"<10\",\"10-14\",\"15-19\",\"20-24\",\"25-29\",\"30-34\",\"35-39\",\"40+\"]\n",
    "\n",
    "total_players[\"Age Range\"] = pd.cut(df[\"Age\"],bins, labels=group_labels)\n",
    "\n",
    "age_totals = total_players[\"Age Range\"].value_counts()\n",
    "age_percents = age_totals / tp *100\n",
    "age = pd.DataFrame({\"Total Counts\":age_totals,\"Percentage of Players\":age_percents})\n",
    "age = age.round(2)\n",
    "\n",
    "age.sort_index()"
   ]
  },
  {
   "cell_type": "code",
   "execution_count": 1012,
   "metadata": {},
   "outputs": [
    {
     "data": {
      "text/html": [
       "<div>\n",
       "<style scoped>\n",
       "    .dataframe tbody tr th:only-of-type {\n",
       "        vertical-align: middle;\n",
       "    }\n",
       "\n",
       "    .dataframe tbody tr th {\n",
       "        vertical-align: top;\n",
       "    }\n",
       "\n",
       "    .dataframe thead th {\n",
       "        text-align: right;\n",
       "    }\n",
       "</style>\n",
       "<table border=\"1\" class=\"dataframe\">\n",
       "  <thead>\n",
       "    <tr style=\"text-align: right;\">\n",
       "      <th></th>\n",
       "      <th>Average Purchase Price</th>\n",
       "      <th>Normalized Totals</th>\n",
       "      <th>Purchase Count</th>\n",
       "      <th>Total Purchase Value</th>\n",
       "    </tr>\n",
       "  </thead>\n",
       "  <tbody>\n",
       "    <tr>\n",
       "      <th>10-14</th>\n",
       "      <td>2.87</td>\n",
       "      <td>4.15</td>\n",
       "      <td>78</td>\n",
       "      <td>224.15</td>\n",
       "    </tr>\n",
       "    <tr>\n",
       "      <th>15-19</th>\n",
       "      <td>2.87</td>\n",
       "      <td>3.80</td>\n",
       "      <td>184</td>\n",
       "      <td>528.74</td>\n",
       "    </tr>\n",
       "    <tr>\n",
       "      <th>20-24</th>\n",
       "      <td>2.96</td>\n",
       "      <td>3.86</td>\n",
       "      <td>305</td>\n",
       "      <td>902.61</td>\n",
       "    </tr>\n",
       "    <tr>\n",
       "      <th>25-29</th>\n",
       "      <td>2.89</td>\n",
       "      <td>4.23</td>\n",
       "      <td>76</td>\n",
       "      <td>219.82</td>\n",
       "    </tr>\n",
       "    <tr>\n",
       "      <th>30-34</th>\n",
       "      <td>3.07</td>\n",
       "      <td>4.05</td>\n",
       "      <td>58</td>\n",
       "      <td>178.26</td>\n",
       "    </tr>\n",
       "    <tr>\n",
       "      <th>35-39</th>\n",
       "      <td>2.90</td>\n",
       "      <td>5.10</td>\n",
       "      <td>44</td>\n",
       "      <td>127.49</td>\n",
       "    </tr>\n",
       "    <tr>\n",
       "      <th>40+</th>\n",
       "      <td>2.88</td>\n",
       "      <td>2.88</td>\n",
       "      <td>3</td>\n",
       "      <td>8.64</td>\n",
       "    </tr>\n",
       "    <tr>\n",
       "      <th>&lt;10</th>\n",
       "      <td>3.02</td>\n",
       "      <td>4.39</td>\n",
       "      <td>32</td>\n",
       "      <td>96.62</td>\n",
       "    </tr>\n",
       "  </tbody>\n",
       "</table>\n",
       "</div>"
      ],
      "text/plain": [
       "       Average Purchase Price  Normalized Totals  Purchase Count  \\\n",
       "10-14                    2.87               4.15              78   \n",
       "15-19                    2.87               3.80             184   \n",
       "20-24                    2.96               3.86             305   \n",
       "25-29                    2.89               4.23              76   \n",
       "30-34                    3.07               4.05              58   \n",
       "35-39                    2.90               5.10              44   \n",
       "40+                      2.88               2.88               3   \n",
       "<10                      3.02               4.39              32   \n",
       "\n",
       "       Total Purchase Value  \n",
       "10-14                224.15  \n",
       "15-19                528.74  \n",
       "20-24                902.61  \n",
       "25-29                219.82  \n",
       "30-34                178.26  \n",
       "35-39                127.49  \n",
       "40+                    8.64  \n",
       "<10                   96.62  "
      ]
     },
     "execution_count": 1012,
     "metadata": {},
     "output_type": "execute_result"
    }
   ],
   "source": [
    "df[\"Age Range\"] = pd.cut(df[\"Age\"],bins,labels=group_labels)\n",
    "\n",
    "age_total_purchase = df.groupby([\"Age Range\"]).sum()[\"Price\"]\n",
    "age_average = df.groupby([\"Age Range\"]).mean()[\"Price\"]\n",
    "age_average = age_average.round(2)\n",
    "age_count = df.groupby([\"Age Range\"]).count()[\"Price\"]\n",
    "\n",
    "normalized_total = age_total_purchase / age[\"Total Counts\"]\n",
    "normalized_total = normalized_total.round(2)\n",
    "\n",
    "age_range_data = pd.DataFrame({\"Purchase Count\": age_count, \"Average Purchase Price\": age_average, \n",
    "                               \"Total Purchase Value\": age_total_purchase, \"Normalized Totals\": normalized_total})\n",
    "age_range_data.sort_index()"
   ]
  },
  {
   "cell_type": "code",
   "execution_count": null,
   "metadata": {},
   "outputs": [],
   "source": []
  }
 ],
 "metadata": {
  "kernelspec": {
   "display_name": "Python 3",
   "language": "python",
   "name": "python3"
  },
  "language_info": {
   "codemirror_mode": {
    "name": "ipython",
    "version": 3
   },
   "file_extension": ".py",
   "mimetype": "text/x-python",
   "name": "python",
   "nbconvert_exporter": "python",
   "pygments_lexer": "ipython3",
   "version": "3.6.4"
  }
 },
 "nbformat": 4,
 "nbformat_minor": 2
}
